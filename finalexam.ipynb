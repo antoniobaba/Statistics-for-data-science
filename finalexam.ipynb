{
 "cells": [
  {
   "cell_type": "code",
   "execution_count": null,
   "metadata": {},
   "outputs": [],
   "source": [
    "import pandas as pd"
   ]
  },
  {
   "cell_type": "code",
   "execution_count": null,
   "metadata": {},
   "outputs": [],
   "source": [
    "boston_url = 'https://cf-courses-data.s3.us.cloud-object-storage.appdomain.cloud/IBMDeveloperSkillsNetwork-ST0151EN-SkillsNetwork/labs/boston_housing.csv'\n",
    "boston_df=pd.read_csv(boston_url)"
   ]
  },
  {
   "cell_type": "code",
   "execution_count": null,
   "metadata": {},
   "outputs": [],
   "source": [
    "import matplotlib.pyplot as plt\n",
    "# Create a boxplot for the \"MEDV\" (Median value of owner-occupied homes) variable\n",
    "plt.figure(figsize=(8, 6))\n",
    "plt.boxplot(boston_df['MEDV'])\n",
    "plt.title(\"Boxplot of Median Value of Owner-Occupied Homes\")\n",
    "plt.xlabel(\"Owner-Occupied Homes\")\n",
    "plt.ylabel(\"Median Value\")\n",
    "plt.show()"
   ]
  },
  {
   "cell_type": "code",
   "execution_count": null,
   "metadata": {},
   "outputs": [],
   "source": [
    "# Count the occurrences of each value in the \"CHAS\" (Charles river) variable\n",
    "charles_counts = boston_df['CHAS'].value_counts()\n",
    "\n",
    "# Create a bar plot for the Charles river variable\n",
    "plt.figure(figsize=(8, 6))\n",
    "charles_counts.plot(kind='bar')\n",
    "plt.title(\"Bar Plot of Charles River Variable\")\n",
    "plt.xlabel(\"Charles River\")\n",
    "plt.ylabel(\"Count\")\n",
    "plt.show()"
   ]
  },
  {
   "cell_type": "code",
   "execution_count": null,
   "metadata": {},
   "outputs": [],
   "source": [
    "# Discretize the \"AGE\" variable into three groups: 35 and younger, between 35 and 70, and 70 and older\n",
    "age_bins = [0, 35, 70, float('inf')]\n",
    "age_labels = ['35 and Younger', 'Between 35 and 70', '70 and Older']\n",
    "boston_df['AGE_Group'] = pd.cut(boston_df['AGE'], bins=age_bins, labels=age_labels)\n",
    "\n",
    "# Create a boxplot for the MEDV (Median value of owner-occupied homes) variable by AGE group\n",
    "plt.figure(figsize=(10, 6))\n",
    "boston_df.boxplot(column='MEDV', by='AGE_Group')\n",
    "plt.title(\"Boxplot of MEDV vs AGE\")\n",
    "plt.xlabel(\"Age Group\")\n",
    "plt.ylabel(\"Median Value\")\n",
    "plt.suptitle(\"\")  # Remove default title\n",
    "plt.show()"
   ]
  },
  {
   "cell_type": "code",
   "execution_count": null,
   "metadata": {},
   "outputs": [],
   "source": [
    "# Create a scatter plot for NOX vs INDUS\n",
    "plt.figure(figsize=(8, 6))\n",
    "plt.scatter(boston_df['NOX'], boston_df['INDUS'])\n",
    "plt.title(\"Scatter Plot: NOX vs INDUS\")\n",
    "plt.xlabel(\"Nitric Oxide Concentrations\")\n",
    "plt.ylabel(\"Proportion of Non-Retail Business Acres\")\n",
    "plt.show()"
   ]
  },
  {
   "cell_type": "code",
   "execution_count": null,
   "metadata": {},
   "outputs": [],
   "source": [
    "# Create a histogram for the pupil to teacher ratio variable\n",
    "plt.figure(figsize=(8, 6))\n",
    "plt.hist(boston_df['PTRATIO'], bins=10)\n",
    "plt.title(\"Histogram: Pupil-to-Teacher Ratio\")\n",
    "plt.xlabel(\"Pupil-to-Teacher Ratio\")\n",
    "plt.ylabel(\"Frequency\")\n",
    "plt.show()"
   ]
  },
  {
   "cell_type": "code",
   "execution_count": null,
   "metadata": {},
   "outputs": [],
   "source": [
    "from scipy.stats import ttest_ind"
   ]
  },
  {
   "cell_type": "code",
   "execution_count": null,
   "metadata": {},
   "outputs": [],
   "source": [
    "# Extract the MEDV values for houses bounded by the Charles river and those not bounded by the Charles river\n",
    "charles_river_medv = boston_df[boston_df['CHAS'] == 1]['MEDV']\n",
    "non_charles_river_medv = boston_df[boston_df['CHAS'] == 0]['MEDV']\n",
    "\n",
    "# Perform the t-test for independent samples\n",
    "t_stat, p_value = ttest_ind(charles_river_medv, non_charles_river_medv)\n",
    "\n",
    "# Compare the p-value with the significance level (α)\n",
    "alpha = 0.05\n",
    "if p_value < alpha:\n",
    "    conclusion = \"Reject the null hypothesis. There is a significant difference in the median value of houses bounded by the Charles river and those not bounded by the Charles river.\"\n",
    "else:\n",
    "    conclusion = \"Fail to reject the null hypothesis. There is no significant difference in the median value of houses bounded by the Charles river and those not bounded by the Charles river.\"\n",
    "\n",
    "print(\"T-statistic:\", t_stat)\n",
    "print(\"P-value:\", p_value)\n",
    "print(\"Conclusion:\", conclusion)"
   ]
  },
  {
   "cell_type": "code",
   "execution_count": null,
   "metadata": {},
   "outputs": [],
   "source": [
    "from scipy.stats import f_oneway\n",
    "\n",
    "# Perform one-way ANOVA to test for differences in median values of houses for each AGE group\n",
    "age_groups = [boston_df[boston_df['AGE_Group'] == group]['MEDV'] for group in age_labels]\n",
    "f_stat, p_value = f_oneway(*age_groups)\n",
    "\n",
    "# Compare the p-value with the significance level (α)\n",
    "alpha = 0.05\n",
    "if p_value < alpha:\n",
    "    conclusion = \"Reject the null hypothesis. There is a difference in median values of houses for each proportion of owner occupied units built prior to 1940 (AGE).\"\n",
    "else:\n",
    "    conclusion = \"Fail to reject the null hypothesis. There is no difference in median values of houses for each proportion of owner occupied units built prior to 1940 (AGE).\"\n",
    "\n",
    "print(\"F-statistic:\", f_stat)\n",
    "print(\"P-value:\", p_value)\n",
    "print(\"Conclusion:\", conclusion)"
   ]
  },
  {
   "cell_type": "code",
   "execution_count": null,
   "metadata": {},
   "outputs": [],
   "source": [
    "from scipy.stats import pearsonr\n",
    "\n",
    "# Calculate the Pearson correlation coefficient and the p-value\n",
    "corr, p_value = pearsonr(boston_df['NOX'], boston_df['INDUS'])\n",
    "\n",
    "# Compare the p-value with the significance level (α)\n",
    "alpha = 0.05\n",
    "if p_value < alpha:\n",
    "    conclusion = \"Reject the null hypothesis. There is a relationship between Nitric oxide concentrations and proportion of non-retail business acres per town.\"\n",
    "else:\n",
    "    conclusion = \"Fail to reject the null hypothesis. There is no relationship between Nitric oxide concentrations and proportion of non-retail business acres per town.\"\n",
    "\n",
    "print(\"Pearson correlation coefficient:\", corr)\n",
    "print(\"P-value:\", p_value)\n",
    "print(\"Conclusion:\", conclusion)"
   ]
  },
  {
   "cell_type": "code",
   "execution_count": null,
   "metadata": {},
   "outputs": [],
   "source": [
    "from scipy.stats import pearsonr\n",
    "\n",
    "# Calculate the Pearson correlation coefficient and the p-value\n",
    "corr, p_value = pearsonr(boston_df['NOX'], boston_df['INDUS'])\n",
    "\n",
    "# Compare the p-value with the significance level (α)\n",
    "alpha = 0.05\n",
    "if p_value < alpha:\n",
    "    conclusion = \"Reject the null hypothesis. There is a relationship between Nitric oxide concentrations and proportion of non-retail business acres per town.\"\n",
    "else:\n",
    "    conclusion = \"Fail to reject the null hypothesis. There is no relationship between Nitric oxide concentrations and proportion of non-retail business acres per town.\"\n",
    "\n",
    "print(\"Pearson correlation coefficient:\", corr)\n",
    "print(\"P-value:\", p_value)\n",
    "print(\"Conclusion:\", conclusion)"
   ]
  },
  {
   "cell_type": "code",
   "execution_count": null,
   "metadata": {},
   "outputs": [],
   "source": [
    "import statsmodels.api as sm\n",
    "\n",
    "# Add a constant term to the predictor variable\n",
    "X = sm.add_constant(boston_df['DIS'])\n",
    "\n",
    "# Fit the linear regression model\n",
    "model = sm.OLS(boston_df['MEDV'], X)\n",
    "results = model.fit()\n",
    "\n",
    "# Extract the coefficient and p-value for the additional weighted distance (DIS)\n",
    "coefficient = results.params['DIS']\n",
    "p_value = results.pvalues['DIS']\n",
    "\n",
    "# Compare the p-value with the significance level (α)\n",
    "alpha = 0.05\n",
    "if p_value < alpha:\n",
    "    conclusion = \"Reject the null hypothesis. The additional weighted distance to the five Boston employment centres has an impact on the median value of owner-occupied homes.\"\n",
    "else:\n",
    "    conclusion = \"Fail to reject the null hypothesis. The additional weighted distance to the five Boston employment centres has no impact on the median value of owner-occupied homes.\"\n",
    "\n",
    "print(\"Coefficient:\", coefficient)\n",
    "print(\"P-value:\", p_value)\n",
    "print(\"Conclusion:\", conclusion)"
   ]
  }
 ],
 "metadata": {
  "kernelspec": {
   "display_name": "Python 3",
   "language": "python",
   "name": "python3"
  },
  "language_info": {
   "codemirror_mode": {
    "name": "ipython",
    "version": 3
   },
   "file_extension": ".py",
   "mimetype": "text/x-python",
   "name": "python",
   "nbconvert_exporter": "python",
   "pygments_lexer": "ipython3",
   "version": "3.11.5"
  }
 },
 "nbformat": 4,
 "nbformat_minor": 2
}
